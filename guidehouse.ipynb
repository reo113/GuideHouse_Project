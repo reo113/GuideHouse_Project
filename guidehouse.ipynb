{
 "cells": [
  {
   "cell_type": "code",
   "execution_count": 268,
   "metadata": {},
   "outputs": [],
   "source": [
    "import pandas as pd\n",
    "import numpy as np\n",
    "import os\n",
    "import re\n",
    "import datetime\n",
    "import matplotlib.pyplot as plt\n",
    "import seaborn as sns\n",
    "from sklearn.preprocessing import LabelEncoder\n",
    "from sklearn.linear_model import LinearRegression\n",
    "from sklearn.model_selection import train_test_split, cross_val_score\n",
    "from sklearn.metrics import mean_squared_error, r2_score\n",
    "from sklearn.model_selection import GridSearchCV\n",
    "from sklearn.preprocessing import StandardScaler\n",
    "from sklearn.metrics import mean_squared_error as mse\n",
    "from sklearn.preprocessing import MinMaxScaler\n",
    "from sklearn.ensemble import GradientBoostingRegressor\n",
    "import pickle"
   ]
  },
  {
   "cell_type": "code",
   "execution_count": 159,
   "metadata": {},
   "outputs": [],
   "source": [
    "def getDate(filename):\n",
    "    match_str = re.search(r'\\d{4}-\\d{2}-\\d{2}',filename)\n",
    "    try:\n",
    "        return datetime.datetime.strptime(match_str.group(), '%Y-%m-%d').date()\n",
    "    except ValueError:\n",
    "        return None"
   ]
  },
  {
   "cell_type": "code",
   "execution_count": 160,
   "metadata": {},
   "outputs": [],
   "source": [
    "def cleanColumn(name):\n",
    "    name = name.upper()\n",
    "    clean_name = re.sub(r'[^a-zA-Z0-9_]', '', name)\n",
    "    clean_name = clean_name.replace('\\n', ' ')\n",
    "    if clean_name == 'SHELTERNFI':\n",
    "        clean_name = 'SHELTER'\n",
    "    if clean_name == 'PROTECTIONCP':\n",
    "        clean_name = 'PC_CP'\n",
    "    if clean_name == 'PROTECTIONGBV':\n",
    "        clean_name = 'PC_GBV'\n",
    "    if clean_name == 'PROTECTIONMA':\n",
    "        clean_name = 'PC_MA'\n",
    "    if clean_name == 'TOTALREACHED':\n",
    "        clean_name = 'PEOPLEREACHED'\n",
    "    return clean_name"
   ]
  },
  {
   "cell_type": "code",
   "execution_count": 161,
   "metadata": {},
   "outputs": [],
   "source": [
    "#using csv and xlsx\n",
    "csv_dir = 'ukraine_data_excel'\n"
   ]
  },
  {
   "cell_type": "code",
   "execution_count": 162,
   "metadata": {},
   "outputs": [],
   "source": [
    "#using xlsx\n",
    "sheet1_df = []\n",
    "sheet2_df = []\n",
    "sheet3_df = []"
   ]
  },
  {
   "cell_type": "code",
   "execution_count": 163,
   "metadata": {},
   "outputs": [],
   "source": [
    "#using xlsx\n",
    "for filename in os.listdir(csv_dir):\n",
    "  if filename.endswith('.xlsx'):\n",
    "    file_path = os.path.join(csv_dir,filename)\n",
    "    excel_df = pd.ExcelFile(file_path)\n",
    "    files_date = getDate(filename)\n",
    "    for sheet in excel_df.sheet_names:\n",
    "      df = pd.read_excel(excel_df,sheet_name=sheet)\n",
    "      df.columns = [cleanColumn(col) for col in df.columns]\n",
    "      df['DATE'] = files_date\n",
    "      if sheet == 'Num_of_Orgs_by_Oblast':\n",
    "        sheet1_df.append(df)\n",
    "      elif sheet == 'People_Reached_by_Oblast':\n",
    "        sheet2_df.append(df)\n",
    "      elif sheet == 'UDE_Inputs':\n",
    "        sheet3_df.append(df)"
   ]
  },
  {
   "cell_type": "code",
   "execution_count": 164,
   "metadata": {},
   "outputs": [
    {
     "name": "stderr",
     "output_type": "stream",
     "text": [
      "C:\\Users\\rober\\AppData\\Local\\Temp\\ipykernel_28276\\3247654741.py:2: FutureWarning: The default value of numeric_only in DataFrameGroupBy.sum is deprecated. In a future version, numeric_only will default to False. Either specify numeric_only or select only columns which should be valid for the function.\n",
      "  res_sheet1 = combined_sheet1.groupby(['ADMIN1_ID', 'DATE']).sum().reset_index()\n"
     ]
    }
   ],
   "source": [
    "combined_sheet1 = pd.concat(sheet1_df, keys=[str(df['DATE'].iloc[0]) for df in sheet1_df])\n",
    "res_sheet1 = combined_sheet1.groupby(['ADMIN1_ID', 'DATE']).sum().reset_index()\n",
    "merged_sheet1 = pd.merge(res_sheet1, combined_sheet1[['ADMIN1_ID', 'DATE', 'OBLAST']], on=['ADMIN1_ID', 'DATE'], how='left')"
   ]
  },
  {
   "cell_type": "code",
   "execution_count": 165,
   "metadata": {},
   "outputs": [
    {
     "name": "stderr",
     "output_type": "stream",
     "text": [
      "C:\\Users\\rober\\AppData\\Local\\Temp\\ipykernel_28276\\2077129737.py:2: FutureWarning: The default value of numeric_only in DataFrameGroupBy.sum is deprecated. In a future version, numeric_only will default to False. Either specify numeric_only or select only columns which should be valid for the function.\n",
      "  res_sheet2 = combined_sheet2.groupby(['ADMIN1_ID', 'DATE']).sum().reset_index()\n"
     ]
    }
   ],
   "source": [
    "combined_sheet2 = pd.concat(sheet2_df, keys=[str(df['DATE'].iloc[0]) for df in sheet2_df])\n",
    "res_sheet2 = combined_sheet2.groupby(['ADMIN1_ID', 'DATE']).sum().reset_index()\n",
    "columns_to_merge = ['ADMIN1_ID', 'DATE'] \n",
    "merged_sheet2 = pd.merge(combined_sheet2[combined_sheet2.columns.to_list()], res_sheet2[columns_to_merge] , on=['ADMIN1_ID', 'DATE'], how='right')"
   ]
  },
  {
   "cell_type": "code",
   "execution_count": 166,
   "metadata": {},
   "outputs": [
    {
     "data": {
      "text/html": [
       "<div>\n",
       "<style scoped>\n",
       "    .dataframe tbody tr th:only-of-type {\n",
       "        vertical-align: middle;\n",
       "    }\n",
       "\n",
       "    .dataframe tbody tr th {\n",
       "        vertical-align: top;\n",
       "    }\n",
       "\n",
       "    .dataframe thead th {\n",
       "        text-align: right;\n",
       "    }\n",
       "</style>\n",
       "<table border=\"1\" class=\"dataframe\">\n",
       "  <thead>\n",
       "    <tr style=\"text-align: right;\">\n",
       "      <th></th>\n",
       "      <th>OBLAST</th>\n",
       "      <th>ADMIN1_ID</th>\n",
       "      <th>EDUCATION</th>\n",
       "      <th>FSL</th>\n",
       "      <th>GENERALPROTECTION</th>\n",
       "      <th>CP</th>\n",
       "      <th>GBV</th>\n",
       "      <th>MINEACTION</th>\n",
       "      <th>PROTECTIONTOTAL</th>\n",
       "      <th>HEALTH</th>\n",
       "      <th>MPC</th>\n",
       "      <th>NUTRITION</th>\n",
       "      <th>SHELTER</th>\n",
       "      <th>WASH</th>\n",
       "      <th>PEOPLEREACHED</th>\n",
       "      <th>DATE</th>\n",
       "      <th>ADM1_ID</th>\n",
       "    </tr>\n",
       "  </thead>\n",
       "  <tbody>\n",
       "    <tr>\n",
       "      <th>0</th>\n",
       "      <td>Vinnytska</td>\n",
       "      <td>UA05</td>\n",
       "      <td>2800.0</td>\n",
       "      <td>7900.0</td>\n",
       "      <td>11200.0</td>\n",
       "      <td>100.0</td>\n",
       "      <td>100.0</td>\n",
       "      <td>500.0</td>\n",
       "      <td>11900.0</td>\n",
       "      <td>4600.0</td>\n",
       "      <td>91200.0</td>\n",
       "      <td>NaN</td>\n",
       "      <td>15800.0</td>\n",
       "      <td>2300.0</td>\n",
       "      <td>91200.0</td>\n",
       "      <td>2022-04-28</td>\n",
       "      <td>NaN</td>\n",
       "    </tr>\n",
       "    <tr>\n",
       "      <th>1</th>\n",
       "      <td>Vinnytska</td>\n",
       "      <td>UA05</td>\n",
       "      <td>2800.0</td>\n",
       "      <td>14300.0</td>\n",
       "      <td>9600.0</td>\n",
       "      <td>100.0</td>\n",
       "      <td>4100.0</td>\n",
       "      <td>500.0</td>\n",
       "      <td>14300.0</td>\n",
       "      <td>4600.0</td>\n",
       "      <td>113000.0</td>\n",
       "      <td>NaN</td>\n",
       "      <td>16200.0</td>\n",
       "      <td>2300.0</td>\n",
       "      <td>113000.0</td>\n",
       "      <td>2022-05-06</td>\n",
       "      <td>NaN</td>\n",
       "    </tr>\n",
       "    <tr>\n",
       "      <th>2</th>\n",
       "      <td>Vinnytska</td>\n",
       "      <td>UA05</td>\n",
       "      <td>4900.0</td>\n",
       "      <td>15500.0</td>\n",
       "      <td>11400.0</td>\n",
       "      <td>200.0</td>\n",
       "      <td>4100.0</td>\n",
       "      <td>500.0</td>\n",
       "      <td>16300.0</td>\n",
       "      <td>9900.0</td>\n",
       "      <td>138800.0</td>\n",
       "      <td>NaN</td>\n",
       "      <td>17500.0</td>\n",
       "      <td>3700.0</td>\n",
       "      <td>138800.0</td>\n",
       "      <td>2022-05-12</td>\n",
       "      <td>NaN</td>\n",
       "    </tr>\n",
       "    <tr>\n",
       "      <th>3</th>\n",
       "      <td>Vinnytska</td>\n",
       "      <td>UA05</td>\n",
       "      <td>9000.0</td>\n",
       "      <td>17500.0</td>\n",
       "      <td>NaN</td>\n",
       "      <td>500.0</td>\n",
       "      <td>6100.0</td>\n",
       "      <td>500.0</td>\n",
       "      <td>20300.0</td>\n",
       "      <td>23200.0</td>\n",
       "      <td>140600.0</td>\n",
       "      <td>NaN</td>\n",
       "      <td>17500.0</td>\n",
       "      <td>3700.0</td>\n",
       "      <td>140600.0</td>\n",
       "      <td>2022-05-19</td>\n",
       "      <td>NaN</td>\n",
       "    </tr>\n",
       "    <tr>\n",
       "      <th>4</th>\n",
       "      <td>Vinnytska</td>\n",
       "      <td>UA05</td>\n",
       "      <td>11500.0</td>\n",
       "      <td>17600.0</td>\n",
       "      <td>NaN</td>\n",
       "      <td>4400.0</td>\n",
       "      <td>6200.0</td>\n",
       "      <td>700.0</td>\n",
       "      <td>25600.0</td>\n",
       "      <td>23300.0</td>\n",
       "      <td>216600.0</td>\n",
       "      <td>NaN</td>\n",
       "      <td>21700.0</td>\n",
       "      <td>3800.0</td>\n",
       "      <td>216600.0</td>\n",
       "      <td>2022-05-26</td>\n",
       "      <td>NaN</td>\n",
       "    </tr>\n",
       "  </tbody>\n",
       "</table>\n",
       "</div>"
      ],
      "text/plain": [
       "      OBLAST ADMIN1_ID EDUCATION      FSL  GENERALPROTECTION      CP     GBV  \\\n",
       "0  Vinnytska      UA05    2800.0   7900.0            11200.0   100.0   100.0   \n",
       "1  Vinnytska      UA05    2800.0  14300.0             9600.0   100.0  4100.0   \n",
       "2  Vinnytska      UA05    4900.0  15500.0            11400.0   200.0  4100.0   \n",
       "3  Vinnytska      UA05    9000.0  17500.0                NaN   500.0  6100.0   \n",
       "4  Vinnytska      UA05   11500.0  17600.0                NaN  4400.0  6200.0   \n",
       "\n",
       "   MINEACTION  PROTECTIONTOTAL   HEALTH       MPC NUTRITION  SHELTER    WASH  \\\n",
       "0       500.0          11900.0   4600.0   91200.0       NaN  15800.0  2300.0   \n",
       "1       500.0          14300.0   4600.0  113000.0       NaN  16200.0  2300.0   \n",
       "2       500.0          16300.0   9900.0  138800.0       NaN  17500.0  3700.0   \n",
       "3       500.0          20300.0  23200.0  140600.0       NaN  17500.0  3700.0   \n",
       "4       700.0          25600.0  23300.0  216600.0       NaN  21700.0  3800.0   \n",
       "\n",
       "   PEOPLEREACHED        DATE ADM1_ID  \n",
       "0        91200.0  2022-04-28     NaN  \n",
       "1       113000.0  2022-05-06     NaN  \n",
       "2       138800.0  2022-05-12     NaN  \n",
       "3       140600.0  2022-05-19     NaN  \n",
       "4       216600.0  2022-05-26     NaN  "
      ]
     },
     "execution_count": 166,
     "metadata": {},
     "output_type": "execute_result"
    }
   ],
   "source": [
    "merged_sheet2.head()"
   ]
  },
  {
   "cell_type": "code",
   "execution_count": 167,
   "metadata": {},
   "outputs": [
    {
     "data": {
      "text/plain": [
       "(675, 17)"
      ]
     },
     "execution_count": 167,
     "metadata": {},
     "output_type": "execute_result"
    }
   ],
   "source": [
    "merged_sheet2.shape"
   ]
  },
  {
   "cell_type": "code",
   "execution_count": 168,
   "metadata": {},
   "outputs": [],
   "source": [
    "merged_sheet2.fillna(0,inplace=True)\n",
    "merged_sheet2.drop(columns=['ADM1_ID'],inplace=True)"
   ]
  },
  {
   "cell_type": "code",
   "execution_count": 169,
   "metadata": {},
   "outputs": [
    {
     "data": {
      "text/plain": [
       "False"
      ]
     },
     "execution_count": 169,
     "metadata": {},
     "output_type": "execute_result"
    }
   ],
   "source": [
    "merged_sheet1.isna().any().any()"
   ]
  },
  {
   "cell_type": "code",
   "execution_count": null,
   "metadata": {},
   "outputs": [],
   "source": [
    "combined_sheet3 = pd.concat(sheet3_df, keys=[str(df['DATE'].iloc[0]) for df in sheet3_df])\n",
    "res_sheet3 = combined_sheet3.groupby(['ADMIN1_ID', 'DATE']).sum().reset_index()\n",
    "merged_sheet3 = pd.merge(res_sheet3, combined_sheet3[['ADMIN1_ID', 'DATE', 'OBLAST']], on=['ADMIN1_ID', 'DATE'], how='left')"
   ]
  },
  {
   "cell_type": "code",
   "execution_count": null,
   "metadata": {},
   "outputs": [],
   "source": [
    "#Num_of_Orgs_by_Oblast\n",
    "merged_sheet1.iloc[20:35]"
   ]
  },
  {
   "cell_type": "code",
   "execution_count": null,
   "metadata": {},
   "outputs": [],
   "source": [
    "#People_Reached_by_Oblast\n",
    "merged_sheet2.iloc[10:25]"
   ]
  },
  {
   "cell_type": "code",
   "execution_count": null,
   "metadata": {},
   "outputs": [],
   "source": [
    "merged_sheet3.iloc[20:35]"
   ]
  },
  {
   "cell_type": "code",
   "execution_count": null,
   "metadata": {},
   "outputs": [],
   "source": [
    "merged_sheet1['OBLAST'].value_counts()"
   ]
  },
  {
   "cell_type": "code",
   "execution_count": 175,
   "metadata": {},
   "outputs": [
    {
     "data": {
      "text/plain": [
       "750"
      ]
     },
     "execution_count": 175,
     "metadata": {},
     "output_type": "execute_result"
    }
   ],
   "source": [
    "sum(merged_sheet3['PEOPLEREACHED'].value_counts())"
   ]
  },
  {
   "cell_type": "code",
   "execution_count": 176,
   "metadata": {},
   "outputs": [
    {
     "data": {
      "text/plain": [
       "dtype('O')"
      ]
     },
     "execution_count": 176,
     "metadata": {},
     "output_type": "execute_result"
    }
   ],
   "source": [
    "merged_sheet1['DATE'].dtype"
   ]
  },
  {
   "cell_type": "code",
   "execution_count": 177,
   "metadata": {},
   "outputs": [],
   "source": [
    "########### mergedsheet 1 prep for interpolation"
   ]
  },
  {
   "cell_type": "code",
   "execution_count": null,
   "metadata": {},
   "outputs": [],
   "source": [
    "# convert date column to string type \n",
    "merged_sheet1['DATE'] = merged_sheet1['DATE'].astype(str)\n",
    "#  the specific date you want to find\n",
    "specific_date_1006 = '2022-10-06'\n",
    "specific_date_1125 = '2022-11-25'\n",
    "specific_date_1110 = '2022-11-10'\n",
    "# filter the df for rows with the specific date\n",
    "filtered_values1006 = merged_sheet1.loc[merged_sheet1['DATE'] == specific_date_1006]\n",
    "filtered_values1110 = merged_sheet1.loc[merged_sheet1['DATE'] == specific_date_1110]\n",
    "filtered_values1125 = merged_sheet1.loc[merged_sheet1['DATE'] == specific_date_1125]\n",
    "\n",
    "filtered_values1110"
   ]
  },
  {
   "cell_type": "code",
   "execution_count": 179,
   "metadata": {},
   "outputs": [],
   "source": [
    "# replace zero values in the empty tuple to NAN for future linear interpolation of ORGS\n",
    "filtered_values1006= filtered_values1006.replace(0,np.nan)\n",
    "filtered_values1110= filtered_values1110.replace(0,np.nan)\n",
    "filtered_values1125= filtered_values1125.replace(0,np.nan)"
   ]
  },
  {
   "cell_type": "code",
   "execution_count": 180,
   "metadata": {},
   "outputs": [],
   "source": [
    "#overwrite the old values\n",
    "merged_sheet1.loc[merged_sheet1['DATE'] == specific_date_1006] = filtered_values1006\n",
    "merged_sheet1.loc[merged_sheet1['DATE'] == specific_date_1110] = filtered_values1110\n",
    "merged_sheet1.loc[merged_sheet1['DATE'] == specific_date_1125] = filtered_values1125"
   ]
  },
  {
   "cell_type": "code",
   "execution_count": 181,
   "metadata": {},
   "outputs": [],
   "source": [
    "########### mergedsheet 2 prep for interpolation"
   ]
  },
  {
   "cell_type": "code",
   "execution_count": null,
   "metadata": {},
   "outputs": [],
   "source": [
    "# Convert date column to string type \n",
    "merged_sheet2['DATE'] = merged_sheet2['DATE'].astype(str)\n",
    "# filter the df for rows with the specific date\n",
    "filtered_values1006_m2 = merged_sheet2.loc[merged_sheet2['DATE'] == specific_date_1006]\n",
    "filtered_values1110_m2 = merged_sheet2.loc[merged_sheet2['DATE'] == specific_date_1110]\n",
    "filtered_values1125_m2 = merged_sheet2.loc[merged_sheet2['DATE'] == specific_date_1125]\n",
    "filtered_values1006_m2"
   ]
  },
  {
   "cell_type": "code",
   "execution_count": 183,
   "metadata": {},
   "outputs": [],
   "source": [
    "# replace zero values in the empty tuple to NAN for future linear interpolation of People\n",
    "filtered_values1006_m2 = filtered_values1006_m2.replace(0,np.nan)\n",
    "filtered_values1110_m2 = filtered_values1110_m2.replace(0,np.nan)\n",
    "filtered_values1125_m2 = filtered_values1125_m2.replace(0,np.nan)"
   ]
  },
  {
   "cell_type": "code",
   "execution_count": 184,
   "metadata": {},
   "outputs": [],
   "source": [
    "#overwrite the old values\n",
    "merged_sheet2.loc[merged_sheet2['DATE'] == specific_date_1006] = filtered_values1006_m2\n",
    "merged_sheet2.loc[merged_sheet2['DATE'] == specific_date_1110] = filtered_values1110_m2\n",
    "merged_sheet2.loc[merged_sheet2['DATE'] == specific_date_1125] = filtered_values1125_m2"
   ]
  },
  {
   "cell_type": "code",
   "execution_count": 185,
   "metadata": {},
   "outputs": [
    {
     "data": {
      "text/plain": [
       "True"
      ]
     },
     "execution_count": 185,
     "metadata": {},
     "output_type": "execute_result"
    }
   ],
   "source": [
    "#check for null values\n",
    "merged_sheet1.isna().any().any()"
   ]
  },
  {
   "cell_type": "code",
   "execution_count": 186,
   "metadata": {},
   "outputs": [
    {
     "data": {
      "text/plain": [
       "True"
      ]
     },
     "execution_count": 186,
     "metadata": {},
     "output_type": "execute_result"
    }
   ],
   "source": [
    "# check for null values in specific row\n",
    "merged_sheet1.iloc[26].isna().any()"
   ]
  },
  {
   "cell_type": "code",
   "execution_count": null,
   "metadata": {},
   "outputs": [],
   "source": [
    "#replace dashed in education and nutrition to 0, maybe nan\n",
    "merged_sheet2 = merged_sheet2.replace('-',0)\n",
    "e =merged_sheet2[merged_sheet2['EDUCATION']=='-']\n",
    "n =merged_sheet2[merged_sheet2['NUTRITION']=='-']\n",
    "e,n"
   ]
  },
  {
   "cell_type": "code",
   "execution_count": 295,
   "metadata": {},
   "outputs": [],
   "source": [
    "#filled null values using linear interpolation\n",
    "num_of_org_interpolated_df = merged_sheet1.interpolate(method='linear')"
   ]
  },
  {
   "cell_type": "code",
   "execution_count": 332,
   "metadata": {},
   "outputs": [
    {
     "data": {
      "text/plain": [
       "False"
      ]
     },
     "execution_count": 332,
     "metadata": {},
     "output_type": "execute_result"
    }
   ],
   "source": [
    "num_of_org_interpolated_df.isna().any().any()"
   ]
  },
  {
   "cell_type": "code",
   "execution_count": 297,
   "metadata": {},
   "outputs": [],
   "source": [
    "# rounded all int and float dtypes since interpolation caused floats\n",
    "num_of_org_interpolated_df = num_of_org_interpolated_df.applymap(lambda x: round(x, 1) if isinstance(x, (int, float)) else x)"
   ]
  },
  {
   "cell_type": "code",
   "execution_count": null,
   "metadata": {},
   "outputs": [],
   "source": [
    "num_of_org_interpolated_df.loc[num_of_org_interpolated_df['DATE']==specific_date_1110]"
   ]
  },
  {
   "cell_type": "code",
   "execution_count": null,
   "metadata": {},
   "outputs": [],
   "source": [
    "num_of_org_interpolated_df.sort_values(by=['DATE'])"
   ]
  },
  {
   "cell_type": "code",
   "execution_count": null,
   "metadata": {},
   "outputs": [],
   "source": [
    "num_of_org_interpolated_df.describe()"
   ]
  },
  {
   "cell_type": "code",
   "execution_count": 301,
   "metadata": {},
   "outputs": [],
   "source": [
    "#filled null values using linear interpolation for merged sheet2\n",
    "people_reached_interpolated_df = merged_sheet2.interpolate(method='linear')\n",
    "people_reached_interpolated_df.fillna(method='ffill',inplace=True)"
   ]
  },
  {
   "cell_type": "code",
   "execution_count": 302,
   "metadata": {},
   "outputs": [
    {
     "data": {
      "text/plain": [
       "False"
      ]
     },
     "execution_count": 302,
     "metadata": {},
     "output_type": "execute_result"
    }
   ],
   "source": [
    "#check for null\n",
    "people_reached_interpolated_df.isna().any().any()"
   ]
  },
  {
   "cell_type": "code",
   "execution_count": 303,
   "metadata": {},
   "outputs": [],
   "source": [
    "# rounded all int and float dtypes since interpolation caused floats\n",
    "people_reached_interpolated_df = people_reached_interpolated_df.applymap(lambda x: round(x, 1) if isinstance(x, (int, float)) else x)"
   ]
  },
  {
   "cell_type": "code",
   "execution_count": null,
   "metadata": {},
   "outputs": [],
   "source": [
    "people_reached_interpolated_df.loc[people_reached_interpolated_df['DATE']==specific_date_1125]"
   ]
  },
  {
   "cell_type": "code",
   "execution_count": 305,
   "metadata": {},
   "outputs": [],
   "source": [
    "#NUM OF ORGS\n",
    "# create label encoder instance\n",
    "label_encoder = LabelEncoder()\n",
    "#fit label encoder to transform Oblast column\n",
    "encoded_oblast = label_encoder.fit_transform(num_of_org_interpolated_df['OBLAST'])\n",
    "#create copy\n",
    "num_of_org_df_encoded = num_of_org_interpolated_df.copy()\n",
    "#Add column and assign values\n",
    "num_of_org_df_encoded['OBLAST_ENCODED'] = encoded_oblast"
   ]
  },
  {
   "cell_type": "code",
   "execution_count": 306,
   "metadata": {},
   "outputs": [],
   "source": [
    "#NUM OF ORGS\n",
    "# create label encoder instance\n",
    "label_encoder = LabelEncoder()\n",
    "#fit label encoder to transform Date column\n",
    "encoded_oblast = label_encoder.fit_transform(num_of_org_df_encoded['DATE'])\n",
    "#create copy\n",
    "num_of_org_df_encode = num_of_org_df_encoded.copy()\n",
    "#Add column and assign values\n",
    "num_of_org_df_encode['DATE_ENCODED'] = encoded_oblast"
   ]
  },
  {
   "cell_type": "code",
   "execution_count": 307,
   "metadata": {},
   "outputs": [],
   "source": [
    "#PEOPLE REACHED\n",
    "# create label encoder instance\n",
    "label_encoder = LabelEncoder()\n",
    "#fit label encoder to transform Oblast column\n",
    "encoded_oblast = label_encoder.fit_transform(people_reached_interpolated_df['OBLAST'])\n",
    "#create copy\n",
    "people_reached_df_encoded = people_reached_interpolated_df.copy()\n",
    "#Add column and assign values\n",
    "people_reached_df_encoded['OBLAST_ENCODED'] = encoded_oblast"
   ]
  },
  {
   "cell_type": "code",
   "execution_count": 308,
   "metadata": {},
   "outputs": [],
   "source": [
    "#PEOPLE REACHED\n",
    "# create label encoder instance\n",
    "label_encoder = LabelEncoder()\n",
    "#fit label encoder to transform Date column\n",
    "encoded_oblast = label_encoder.fit_transform(people_reached_df_encoded['DATE'])\n",
    "#create copy\n",
    "people_reached_df_encode = people_reached_df_encoded.copy()\n",
    "#Add column and assign values\n",
    "people_reached_df_encode['DATE_ENCODED'] = encoded_oblast"
   ]
  },
  {
   "cell_type": "code",
   "execution_count": 309,
   "metadata": {},
   "outputs": [],
   "source": [
    "#changing the name of the df\n",
    "people_reached = people_reached_df_encode\n",
    "num_of_org = num_of_org_df_encode"
   ]
  },
  {
   "cell_type": "code",
   "execution_count": null,
   "metadata": {},
   "outputs": [],
   "source": [
    "people_reached.sort_values(by=['DATE'])"
   ]
  },
  {
   "cell_type": "code",
   "execution_count": null,
   "metadata": {},
   "outputs": [],
   "source": [
    "num_of_org.iloc[2:5]"
   ]
  },
  {
   "cell_type": "code",
   "execution_count": null,
   "metadata": {},
   "outputs": [],
   "source": [
    "people_reached.describe()"
   ]
  },
  {
   "cell_type": "code",
   "execution_count": null,
   "metadata": {},
   "outputs": [],
   "source": [
    "people_reached.columns"
   ]
  },
  {
   "cell_type": "code",
   "execution_count": 312,
   "metadata": {},
   "outputs": [
    {
     "data": {
      "text/html": [
       "<div>\n",
       "<style scoped>\n",
       "    .dataframe tbody tr th:only-of-type {\n",
       "        vertical-align: middle;\n",
       "    }\n",
       "\n",
       "    .dataframe tbody tr th {\n",
       "        vertical-align: top;\n",
       "    }\n",
       "\n",
       "    .dataframe thead th {\n",
       "        text-align: right;\n",
       "    }\n",
       "</style>\n",
       "<table border=\"1\" class=\"dataframe\">\n",
       "  <thead>\n",
       "    <tr style=\"text-align: right;\">\n",
       "      <th></th>\n",
       "      <th>OBLAST</th>\n",
       "      <th>ADMIN1_ID</th>\n",
       "      <th>EDUCATION</th>\n",
       "      <th>FSL</th>\n",
       "      <th>GENERALPROTECTION</th>\n",
       "      <th>CP</th>\n",
       "      <th>GBV</th>\n",
       "      <th>MINEACTION</th>\n",
       "      <th>PROTECTIONTOTAL</th>\n",
       "      <th>HEALTH</th>\n",
       "      <th>MPC</th>\n",
       "      <th>NUTRITION</th>\n",
       "      <th>SHELTER</th>\n",
       "      <th>WASH</th>\n",
       "      <th>PEOPLEREACHED</th>\n",
       "      <th>DATE</th>\n",
       "      <th>OBLAST_ENCODED</th>\n",
       "      <th>DATE_ENCODED</th>\n",
       "    </tr>\n",
       "  </thead>\n",
       "  <tbody>\n",
       "  </tbody>\n",
       "</table>\n",
       "</div>"
      ],
      "text/plain": [
       "Empty DataFrame\n",
       "Columns: [OBLAST, ADMIN1_ID, EDUCATION, FSL, GENERALPROTECTION, CP, GBV, MINEACTION, PROTECTIONTOTAL, HEALTH, MPC, NUTRITION, SHELTER, WASH, PEOPLEREACHED, DATE, OBLAST_ENCODED, DATE_ENCODED]\n",
       "Index: []"
      ]
     },
     "execution_count": 312,
     "metadata": {},
     "output_type": "execute_result"
    }
   ],
   "source": [
    "search_result = people_reached[people_reached['EDUCATION'] == '-']\n",
    "search_result"
   ]
  },
  {
   "cell_type": "code",
   "execution_count": 313,
   "metadata": {},
   "outputs": [
    {
     "data": {
      "text/plain": [
       "(0, 18)"
      ]
     },
     "execution_count": 313,
     "metadata": {},
     "output_type": "execute_result"
    }
   ],
   "source": [
    "search_result = people_reached[people_reached['NUTRITION'] == '-']\n",
    "search_result.shape"
   ]
  },
  {
   "cell_type": "code",
   "execution_count": 372,
   "metadata": {},
   "outputs": [],
   "source": [
    "# y = people_reached['PEOPLEREACHED']\n",
    "# X = people_reached.drop(columns=['PEOPLEREACHED','GENERALPROTECTION','OBLAST','DATE','ADMIN1_ID'],axis=1)"
   ]
  }
 ],
 "metadata": {
  "kernelspec": {
   "display_name": "base",
   "language": "python",
   "name": "python3"
  },
  "language_info": {
   "codemirror_mode": {
    "name": "ipython",
    "version": 3
   },
   "file_extension": ".py",
   "mimetype": "text/x-python",
   "name": "python",
   "nbconvert_exporter": "python",
   "pygments_lexer": "ipython3",
   "version": "3.10.9"
  },
  "orig_nbformat": 4
 },
 "nbformat": 4,
 "nbformat_minor": 2
}
